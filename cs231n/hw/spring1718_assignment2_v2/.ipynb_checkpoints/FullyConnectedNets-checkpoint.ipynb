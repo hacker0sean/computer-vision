{
 "cells": [
  {
   "cell_type": "markdown",
   "metadata": {},
   "source": [
    "# Fully-Connected Neural Nets\n",
    "In the previous homework you implemented a fully-connected two-layer neural network on CIFAR-10. The implementation was simple but not very modular since the loss and gradient were computed in a single monolithic function. This is manageable for a simple two-layer network, but would become impractical as we move to bigger models. Ideally we want to build networks using a more modular design so that we can implement different layer types in isolation and then snap them together into models with different architectures.\n",
    "\n",
    "In this exercise we will implement fully-connected networks using a more modular approach. For each layer we will implement a `forward` and a `backward` function. The `forward` function will receive inputs, weights, and other parameters and will return both an output and a `cache` object storing data needed for the backward pass, like this:\n",
    "\n",
    "```python\n",
    "def layer_forward(x, w):\n",
    "  \"\"\" Receive inputs x and weights w \"\"\"\n",
    "  # Do some computations ...\n",
    "  z = # ... some intermediate value\n",
    "  # Do some more computations ...\n",
    "  out = # the output\n",
    "   \n",
    "  cache = (x, w, z, out) # Values we need to compute gradients\n",
    "   \n",
    "  return out, cache\n",
    "```\n",
    "\n",
    "The backward pass will receive upstream derivatives and the `cache` object, and will return gradients with respect to the inputs and weights, like this:\n",
    "\n",
    "```python\n",
    "def layer_backward(dout, cache):\n",
    "  \"\"\"\n",
    "  Receive dout (derivative of loss with respect to outputs) and cache,\n",
    "  and compute derivative with respect to inputs.\n",
    "  \"\"\"\n",
    "  # Unpack cache values\n",
    "  x, w, z, out = cache\n",
    "  \n",
    "  # Use values in cache to compute derivatives\n",
    "  dx = # Derivative of loss with respect to x\n",
    "  dw = # Derivative of loss with respect to w\n",
    "  \n",
    "  return dx, dw\n",
    "```\n",
    "\n",
    "After implementing a bunch of layers this way, we will be able to easily combine them to build classifiers with different architectures.\n",
    "\n",
    "In addition to implementing fully-connected networks of arbitrary depth, we will also explore different update rules for optimization, and introduce Dropout as a regularizer and Batch/Layer Normalization as a tool to more efficiently optimize deep networks.\n",
    "  "
   ]
  },
  {
   "cell_type": "code",
   "execution_count": 1,
   "metadata": {},
   "outputs": [],
   "source": [
    "# As usual, a bit of setup\n",
    "from __future__ import print_function\n",
    "import time\n",
    "import numpy as np\n",
    "import matplotlib.pyplot as plt\n",
    "from cs231n.classifiers.fc_net import *\n",
    "from cs231n.data_utils import get_CIFAR10_data\n",
    "from cs231n.gradient_check import eval_numerical_gradient, eval_numerical_gradient_array\n",
    "from cs231n.solver import Solver\n",
    "\n",
    "%matplotlib inline\n",
    "plt.rcParams['figure.figsize'] = (10.0, 8.0) # set default size of plots\n",
    "plt.rcParams['image.interpolation'] = 'nearest'\n",
    "plt.rcParams['image.cmap'] = 'gray'\n",
    "\n",
    "# for auto-reloading external modules\n",
    "# see http://stackoverflow.com/questions/1907993/autoreload-of-modules-in-ipython\n",
    "%load_ext autoreload\n",
    "%autoreload 2\n",
    "\n",
    "def rel_error(x, y):\n",
    "  \"\"\" returns relative error \"\"\"\n",
    "  return np.max(np.abs(x - y) / (np.maximum(1e-8, np.abs(x) + np.abs(y))))"
   ]
  },
  {
   "cell_type": "code",
   "execution_count": 2,
   "metadata": {},
   "outputs": [
    {
     "name": "stdout",
     "output_type": "stream",
     "text": [
      "('X_train: ', (49000, 3, 32, 32))\n",
      "('y_train: ', (49000,))\n",
      "('X_val: ', (1000, 3, 32, 32))\n",
      "('y_val: ', (1000,))\n",
      "('X_test: ', (1000, 3, 32, 32))\n",
      "('y_test: ', (1000,))\n"
     ]
    }
   ],
   "source": [
    "# Load the (preprocessed) CIFAR10 data.\n",
    "\n",
    "data = get_CIFAR10_data()\n",
    "for k, v in list(data.items()):\n",
    "  print(('%s: ' % k, v.shape))"
   ]
  },
  {
   "cell_type": "markdown",
   "metadata": {},
   "source": [
    "# Affine layer: foward\n",
    "Open the file `cs231n/layers.py` and implement the `affine_forward` function.\n",
    "\n",
    "Once you are done you can test your implementaion by running the following:"
   ]
  },
  {
   "cell_type": "code",
   "execution_count": 3,
   "metadata": {},
   "outputs": [
    {
     "name": "stdout",
     "output_type": "stream",
     "text": [
      "Testing affine_forward function:\n",
      "difference:  9.769847728806635e-10\n"
     ]
    }
   ],
   "source": [
    "# Test the affine_forward function\n",
    "\n",
    "num_inputs = 2\n",
    "input_shape = (4, 5, 6)\n",
    "output_dim = 3\n",
    "\n",
    "input_size = num_inputs * np.prod(input_shape)\n",
    "weight_size = output_dim * np.prod(input_shape)\n",
    "\n",
    "x = np.linspace(-0.1, 0.5, num=input_size).reshape(num_inputs, *input_shape)\n",
    "w = np.linspace(-0.2, 0.3, num=weight_size).reshape(np.prod(input_shape), output_dim)\n",
    "b = np.linspace(-0.3, 0.1, num=output_dim)\n",
    "\n",
    "out, _ = affine_forward(x, w, b)\n",
    "correct_out = np.array([[ 1.49834967,  1.70660132,  1.91485297],\n",
    "                        [ 3.25553199,  3.5141327,   3.77273342]])\n",
    "\n",
    "# Compare your output with ours. The error should be around e-9 or less.\n",
    "print('Testing affine_forward function:')\n",
    "print('difference: ', rel_error(out, correct_out))"
   ]
  },
  {
   "cell_type": "markdown",
   "metadata": {},
   "source": [
    "# Affine layer: backward\n",
    "Now implement the `affine_backward` function and test your implementation using numeric gradient checking."
   ]
  },
  {
   "cell_type": "code",
   "execution_count": 4,
   "metadata": {},
   "outputs": [
    {
     "name": "stdout",
     "output_type": "stream",
     "text": [
      "Testing affine_backward function:\n",
      "dx error:  5.399100368651805e-11\n",
      "dw error:  9.904211865398145e-11\n",
      "db error:  2.4122867568119087e-11\n"
     ]
    }
   ],
   "source": [
    "# Test the affine_backward function\n",
    "np.random.seed(231)\n",
    "x = np.random.randn(10, 2, 3)\n",
    "w = np.random.randn(6, 5)\n",
    "b = np.random.randn(5)\n",
    "dout = np.random.randn(10, 5)\n",
    "\n",
    "dx_num = eval_numerical_gradient_array(lambda x: affine_forward(x, w, b)[0], x, dout)\n",
    "dw_num = eval_numerical_gradient_array(lambda w: affine_forward(x, w, b)[0], w, dout)\n",
    "db_num = eval_numerical_gradient_array(lambda b: affine_forward(x, w, b)[0], b, dout)\n",
    "\n",
    "_, cache = affine_forward(x, w, b)\n",
    "dx, dw, db = affine_backward(dout, cache)\n",
    "\n",
    "# The error should be around e-10 or less\n",
    "print('Testing affine_backward function:')\n",
    "print('dx error: ', rel_error(dx_num, dx))\n",
    "print('dw error: ', rel_error(dw_num, dw))\n",
    "print('db error: ', rel_error(db_num, db))"
   ]
  },
  {
   "cell_type": "markdown",
   "metadata": {},
   "source": [
    "# ReLU activation: forward\n",
    "Implement the forward pass for the ReLU activation function in the `relu_forward` function and test your implementation using the following:"
   ]
  },
  {
   "cell_type": "code",
   "execution_count": 5,
   "metadata": {},
   "outputs": [
    {
     "name": "stdout",
     "output_type": "stream",
     "text": [
      "Testing relu_forward function:\n",
      "difference:  4.999999798022158e-08\n"
     ]
    }
   ],
   "source": [
    "# Test the relu_forward function\n",
    "\n",
    "x = np.linspace(-0.5, 0.5, num=12).reshape(3, 4)\n",
    "\n",
    "out, _ = relu_forward(x)\n",
    "correct_out = np.array([[ 0.,          0.,          0.,          0.,        ],\n",
    "                        [ 0.,          0.,          0.04545455,  0.13636364,],\n",
    "                        [ 0.22727273,  0.31818182,  0.40909091,  0.5,       ]])\n",
    "\n",
    "# Compare your output with ours. The error should be on the order of e-8\n",
    "print('Testing relu_forward function:')\n",
    "print('difference: ', rel_error(out, correct_out))"
   ]
  },
  {
   "cell_type": "markdown",
   "metadata": {},
   "source": [
    "# ReLU activation: backward\n",
    "Now implement the backward pass for the ReLU activation function in the `relu_backward` function and test your implementation using numeric gradient checking:"
   ]
  },
  {
   "cell_type": "code",
   "execution_count": 6,
   "metadata": {},
   "outputs": [
    {
     "name": "stdout",
     "output_type": "stream",
     "text": [
      "Testing relu_backward function:\n",
      "dx error:  3.2756349136310288e-12\n"
     ]
    }
   ],
   "source": [
    "np.random.seed(231)\n",
    "x = np.random.randn(10, 10)\n",
    "dout = np.random.randn(*x.shape)\n",
    "\n",
    "dx_num = eval_numerical_gradient_array(lambda x: relu_forward(x)[0], x, dout)\n",
    "\n",
    "_, cache = relu_forward(x)\n",
    "dx = relu_backward(dout, cache)\n",
    "\n",
    "# The error should be on the order of e-12\n",
    "print('Testing relu_backward function:')\n",
    "print('dx error: ', rel_error(dx_num, dx))"
   ]
  },
  {
   "cell_type": "markdown",
   "metadata": {},
   "source": [
    "## Inline Question 1: \n",
    "\n",
    "We've only asked you to implement ReLU, but there are a number of different activation functions that one could use in neural networks, each with its pros and cons. In particular, an issue commonly seen with activation functions is getting zero (or close to zero) gradient flow during backpropagation. Which of the following activation functions have this problem? If you consider these functions in the one dimensional case, what types of input would lead to this behaviour?\n",
    "1. Sigmoid\n",
    "2. ReLU\n",
    "3. Leaky ReLU"
   ]
  },
  {
   "cell_type": "markdown",
   "metadata": {},
   "source": [
    "## Answer:\n",
    "[1]\n"
   ]
  },
  {
   "cell_type": "markdown",
   "metadata": {},
   "source": [
    "# \"Sandwich\" layers\n",
    "There are some common patterns of layers that are frequently used in neural nets. For example, affine layers are frequently followed by a ReLU nonlinearity. To make these common patterns easy, we define several convenience layers in the file `cs231n/layer_utils.py`.\n",
    "\n",
    "For now take a look at the `affine_relu_forward` and `affine_relu_backward` functions, and run the following to numerically gradient check the backward pass:"
   ]
  },
  {
   "cell_type": "code",
   "execution_count": 7,
   "metadata": {},
   "outputs": [
    {
     "name": "stdout",
     "output_type": "stream",
     "text": [
      "Testing affine_relu_forward and affine_relu_backward:\n",
      "dx error:  6.750562121603446e-11\n",
      "dw error:  8.162015570444288e-11\n",
      "db error:  7.826724021458994e-12\n"
     ]
    }
   ],
   "source": [
    "from cs231n.layer_utils import affine_relu_forward, affine_relu_backward\n",
    "np.random.seed(231)\n",
    "x = np.random.randn(2, 3, 4)\n",
    "w = np.random.randn(12, 10)\n",
    "b = np.random.randn(10)\n",
    "dout = np.random.randn(2, 10)\n",
    "\n",
    "out, cache = affine_relu_forward(x, w, b)\n",
    "dx, dw, db = affine_relu_backward(dout, cache)\n",
    "\n",
    "dx_num = eval_numerical_gradient_array(lambda x: affine_relu_forward(x, w, b)[0], x, dout)\n",
    "dw_num = eval_numerical_gradient_array(lambda w: affine_relu_forward(x, w, b)[0], w, dout)\n",
    "db_num = eval_numerical_gradient_array(lambda b: affine_relu_forward(x, w, b)[0], b, dout)\n",
    "\n",
    "# Relative error should be around e-10 or less\n",
    "print('Testing affine_relu_forward and affine_relu_backward:')\n",
    "print('dx error: ', rel_error(dx_num, dx))\n",
    "print('dw error: ', rel_error(dw_num, dw))\n",
    "print('db error: ', rel_error(db_num, db))"
   ]
  },
  {
   "cell_type": "markdown",
   "metadata": {},
   "source": [
    "# Loss layers: Softmax and SVM\n",
    "You implemented these loss functions in the last assignment, so we'll give them to you for free here. You should still make sure you understand how they work by looking at the implementations in `cs231n/layers.py`.\n",
    "\n",
    "You can make sure that the implementations are correct by running the following:"
   ]
  },
  {
   "cell_type": "code",
   "execution_count": 8,
   "metadata": {},
   "outputs": [
    {
     "name": "stdout",
     "output_type": "stream",
     "text": [
      "Testing svm_loss:\n",
      "loss:  8.999602749096233\n",
      "dx error:  1.4021566006651672e-09\n",
      "\n",
      "Testing softmax_loss:\n",
      "loss:  2.302545844500738\n",
      "dx error:  9.384673161989355e-09\n"
     ]
    }
   ],
   "source": [
    "np.random.seed(231)\n",
    "num_classes, num_inputs = 10, 50\n",
    "x = 0.001 * np.random.randn(num_inputs, num_classes)\n",
    "y = np.random.randint(num_classes, size=num_inputs)\n",
    "\n",
    "dx_num = eval_numerical_gradient(lambda x: svm_loss(x, y)[0], x, verbose=False)\n",
    "loss, dx = svm_loss(x, y)\n",
    "\n",
    "# Test svm_loss function. Loss should be around 9 and dx error should be around the order of e-9\n",
    "print('Testing svm_loss:')\n",
    "print('loss: ', loss)\n",
    "print('dx error: ', rel_error(dx_num, dx))\n",
    "\n",
    "dx_num = eval_numerical_gradient(lambda x: softmax_loss(x, y)[0], x, verbose=False)\n",
    "loss, dx = softmax_loss(x, y)\n",
    "\n",
    "# Test softmax_loss function. Loss should be close to 2.3 and dx error should be around e-8\n",
    "print('\\nTesting softmax_loss:')\n",
    "print('loss: ', loss)\n",
    "print('dx error: ', rel_error(dx_num, dx))"
   ]
  },
  {
   "cell_type": "markdown",
   "metadata": {},
   "source": [
    "# Two-layer network\n",
    "In the previous assignment you implemented a two-layer neural network in a single monolithic class. Now that you have implemented modular versions of the necessary layers, you will reimplement the two layer network using these modular implementations.\n",
    "\n",
    "Open the file `cs231n/classifiers/fc_net.py` and complete the implementation of the `TwoLayerNet` class. This class will serve as a model for the other networks you will implement in this assignment, so read through it to make sure you understand the API. You can run the cell below to test your implementation."
   ]
  },
  {
   "cell_type": "code",
   "execution_count": 9,
   "metadata": {},
   "outputs": [
    {
     "name": "stdout",
     "output_type": "stream",
     "text": [
      "Testing initialization ... \n",
      "Testing test-time forward pass ... \n",
      "Testing training loss (no regularization)\n",
      "Running numeric gradient check with reg =  0.0\n",
      "W1 relative error: 1.22e-08\n",
      "W2 relative error: 3.48e-10\n",
      "b1 relative error: 6.55e-09\n",
      "b2 relative error: 4.33e-10\n",
      "Running numeric gradient check with reg =  0.7\n",
      "W1 relative error: 8.18e-07\n",
      "W2 relative error: 7.98e-08\n",
      "b1 relative error: 1.09e-09\n",
      "b2 relative error: 7.76e-10\n"
     ]
    }
   ],
   "source": [
    "np.random.seed(231)\n",
    "N, D, H, C = 3, 5, 50, 7\n",
    "X = np.random.randn(N, D)\n",
    "y = np.random.randint(C, size=N)\n",
    "\n",
    "std = 1e-3\n",
    "model = TwoLayerNet(input_dim=D, hidden_dim=H, num_classes=C, weight_scale=std)\n",
    "\n",
    "print('Testing initialization ... ')\n",
    "W1_std = abs(model.params['W1'].std() - std)\n",
    "b1 = model.params['b1']\n",
    "W2_std = abs(model.params['W2'].std() - std)\n",
    "b2 = model.params['b2']\n",
    "assert W1_std < std / 10, 'First layer weights do not seem right'\n",
    "assert np.all(b1 == 0), 'First layer biases do not seem right'\n",
    "assert W2_std < std / 10, 'Second layer weights do not seem right'\n",
    "assert np.all(b2 == 0), 'Second layer biases do not seem right'\n",
    "\n",
    "print('Testing test-time forward pass ... ')\n",
    "model.params['W1'] = np.linspace(-0.7, 0.3, num=D*H).reshape(D, H)\n",
    "model.params['b1'] = np.linspace(-0.1, 0.9, num=H)\n",
    "model.params['W2'] = np.linspace(-0.3, 0.4, num=H*C).reshape(H, C)\n",
    "model.params['b2'] = np.linspace(-0.9, 0.1, num=C)\n",
    "X = np.linspace(-5.5, 4.5, num=N*D).reshape(D, N).T\n",
    "scores = model.loss(X)\n",
    "correct_scores = np.asarray(\n",
    "  [[11.53165108,  12.2917344,   13.05181771,  13.81190102,  14.57198434, 15.33206765,  16.09215096],\n",
    "   [12.05769098,  12.74614105,  13.43459113,  14.1230412,   14.81149128, 15.49994135,  16.18839143],\n",
    "   [12.58373087,  13.20054771,  13.81736455,  14.43418138,  15.05099822, 15.66781506,  16.2846319 ]])\n",
    "scores_diff = np.abs(scores - correct_scores).sum()\n",
    "assert scores_diff < 1e-6, 'Problem with test-time forward pass'\n",
    "\n",
    "print('Testing training loss (no regularization)')\n",
    "y = np.asarray([0, 5, 1])\n",
    "loss, grads = model.loss(X, y)\n",
    "correct_loss = 3.4702243556\n",
    "assert abs(loss - correct_loss) < 1e-10, 'Problem with training-time loss'\n",
    "\n",
    "model.reg = 1.0\n",
    "loss, grads = model.loss(X, y)\n",
    "correct_loss = 26.5948426952\n",
    "assert abs(loss - correct_loss) < 1e-10, 'Problem with regularization loss'\n",
    "\n",
    "# Errors should be around e-7 or less\n",
    "for reg in [0.0, 0.7]:\n",
    "  print('Running numeric gradient check with reg = ', reg)\n",
    "  model.reg = reg\n",
    "  loss, grads = model.loss(X, y)\n",
    "\n",
    "  for name in sorted(grads):\n",
    "    f = lambda _: model.loss(X, y)[0]\n",
    "    grad_num = eval_numerical_gradient(f, model.params[name], verbose=False)\n",
    "    print('%s relative error: %.2e' % (name, rel_error(grad_num, grads[name])))"
   ]
  },
  {
   "cell_type": "markdown",
   "metadata": {},
   "source": [
    "# Solver\n",
    "In the previous assignment, the logic for training models was coupled to the models themselves. Following a more modular design, for this assignment we have split the logic for training models into a separate class.\n",
    "\n",
    "Open the file `cs231n/solver.py` and read through it to familiarize yourself with the API. After doing so, use a `Solver` instance to train a `TwoLayerNet` that achieves at least `50%` accuracy on the validation set.\n"
   ]
  },
  {
   "cell_type": "code",
   "execution_count": 10,
   "metadata": {},
   "outputs": [
    {
     "name": "stdout",
     "output_type": "stream",
     "text": [
      "(Iteration 1 / 4900) loss: 2.304060\n",
      "(Epoch 0 / 10) train acc: 0.116000; val_acc: 0.094000\n",
      "(Iteration 101 / 4900) loss: 1.829613\n",
      "(Iteration 201 / 4900) loss: 1.857390\n",
      "(Iteration 301 / 4900) loss: 1.744448\n",
      "(Iteration 401 / 4900) loss: 1.420187\n",
      "(Epoch 1 / 10) train acc: 0.407000; val_acc: 0.422000\n",
      "(Iteration 501 / 4900) loss: 1.565913\n",
      "(Iteration 601 / 4900) loss: 1.700510\n",
      "(Iteration 701 / 4900) loss: 1.732213\n",
      "(Iteration 801 / 4900) loss: 1.688361\n",
      "(Iteration 901 / 4900) loss: 1.439529\n",
      "(Epoch 2 / 10) train acc: 0.497000; val_acc: 0.468000\n",
      "(Iteration 1001 / 4900) loss: 1.385772\n",
      "(Iteration 1101 / 4900) loss: 1.278401\n",
      "(Iteration 1201 / 4900) loss: 1.641580\n",
      "(Iteration 1301 / 4900) loss: 1.438847\n",
      "(Iteration 1401 / 4900) loss: 1.172536\n",
      "(Epoch 3 / 10) train acc: 0.490000; val_acc: 0.466000\n",
      "(Iteration 1501 / 4900) loss: 1.346286\n",
      "(Iteration 1601 / 4900) loss: 1.268492\n",
      "(Iteration 1701 / 4900) loss: 1.318215\n",
      "(Iteration 1801 / 4900) loss: 1.395750\n",
      "(Iteration 1901 / 4900) loss: 1.338233\n",
      "(Epoch 4 / 10) train acc: 0.532000; val_acc: 0.497000\n",
      "(Iteration 2001 / 4900) loss: 1.343165\n",
      "(Iteration 2101 / 4900) loss: 1.393173\n",
      "(Iteration 2201 / 4900) loss: 1.276734\n",
      "(Iteration 2301 / 4900) loss: 1.287951\n",
      "(Iteration 2401 / 4900) loss: 1.352778\n",
      "(Epoch 5 / 10) train acc: 0.525000; val_acc: 0.475000\n",
      "(Iteration 2501 / 4900) loss: 1.390234\n",
      "(Iteration 2601 / 4900) loss: 1.276361\n",
      "(Iteration 2701 / 4900) loss: 1.111768\n",
      "(Iteration 2801 / 4900) loss: 1.271688\n",
      "(Iteration 2901 / 4900) loss: 1.272039\n",
      "(Epoch 6 / 10) train acc: 0.546000; val_acc: 0.509000\n",
      "(Iteration 3001 / 4900) loss: 1.304489\n",
      "(Iteration 3101 / 4900) loss: 1.346667\n",
      "(Iteration 3201 / 4900) loss: 1.325510\n",
      "(Iteration 3301 / 4900) loss: 1.392728\n",
      "(Iteration 3401 / 4900) loss: 1.402001\n",
      "(Epoch 7 / 10) train acc: 0.567000; val_acc: 0.505000\n",
      "(Iteration 3501 / 4900) loss: 1.319024\n",
      "(Iteration 3601 / 4900) loss: 1.153287\n",
      "(Iteration 3701 / 4900) loss: 1.180922\n",
      "(Iteration 3801 / 4900) loss: 1.093164\n",
      "(Iteration 3901 / 4900) loss: 1.135902\n",
      "(Epoch 8 / 10) train acc: 0.568000; val_acc: 0.490000\n",
      "(Iteration 4001 / 4900) loss: 1.191735\n",
      "(Iteration 4101 / 4900) loss: 1.359396\n",
      "(Iteration 4201 / 4900) loss: 1.227283\n",
      "(Iteration 4301 / 4900) loss: 1.024113\n",
      "(Iteration 4401 / 4900) loss: 1.327583\n",
      "(Epoch 9 / 10) train acc: 0.592000; val_acc: 0.504000\n",
      "(Iteration 4501 / 4900) loss: 0.963330\n",
      "(Iteration 4601 / 4900) loss: 1.445619\n",
      "(Iteration 4701 / 4900) loss: 1.007542\n",
      "(Iteration 4801 / 4900) loss: 1.005175\n",
      "(Epoch 10 / 10) train acc: 0.611000; val_acc: 0.512000\n"
     ]
    }
   ],
   "source": [
    "model = TwoLayerNet()\n",
    "solver = None\n",
    "\n",
    "##############################################################################\n",
    "# TODO: Use a Solver instance to train a TwoLayerNet that achieves at least  #\n",
    "# 50% accuracy on the validation set.                                        #\n",
    "###################lv##########################################################\n",
    "solver = Solver(model, data, update_rule='sgd', optim_config={'learning_rate':1e-3}, lr_decay=0.95, num_epochs=10, batch_size=100, print_every=100)\n",
    "solver.train()\n",
    "##############################################################################\n",
    "#                             END OF YOUR CODE                               #\n",
    "##############################################################################"
   ]
  },
  {
   "cell_type": "code",
   "execution_count": 11,
   "metadata": {},
   "outputs": [
    {
     "data": {
      "text/plain": [
       "0.512"
      ]
     },
     "execution_count": 11,
     "metadata": {},
     "output_type": "execute_result"
    }
   ],
   "source": [
    "solver.check_accuracy(data['X_val'], data['y_val'])"
   ]
  },
  {
   "cell_type": "code",
   "execution_count": 12,
   "metadata": {},
   "outputs": [
    {
     "data": {
      "image/png": "[encoded data removed]",
      "text/plain": [
       "<Figure size 1080x864 with 2 Axes>"
      ]
     },
     "metadata": {},
     "output_type": "display_data"
    }
   ],
   "source": [
    "# Run this cell to visualize training loss and train / val accuracy\n",
    "\n",
    "plt.subplot(2, 1, 1)\n",
    "plt.title('Training loss')\n",
    "plt.plot(solver.loss_history, 'o')\n",
    "plt.xlabel('Iteration')\n",
    "\n",
    "plt.subplot(2, 1, 2)\n",
    "plt.title('Accuracy')\n",
    "plt.plot(solver.train_acc_history, '-o', label='train')\n",
    "plt.plot(solver.val_acc_history, '-o', label='val')\n",
    "plt.plot([0.5] * len(solver.val_acc_history), 'k--')\n",
    "plt.xlabel('Epoch')\n",
    "plt.legend(loc='lower right')\n",
    "plt.gcf().set_size_inches(15, 12)\n",
    "plt.show()"
   ]
  },
  {
   "cell_type": "markdown",
   "metadata": {},
   "source": [
    "# Multilayer network\n",
    "Next you will implement a fully-connected network with an arbitrary number of hidden layers.\n",
    "\n",
    "Read through the `FullyConnectedNet` class in the file `cs231n/classifiers/fc_net.py`.\n",
    "\n",
    "Implement the initialization, the forward pass, and the backward pass. For the moment don't worry about implementing dropout or batch/layer normalization; we will add those features soon."
   ]
  },
  {
   "cell_type": "markdown",
   "metadata": {},
   "source": [
    "## Initial loss and gradient check"
   ]
  },
  {
   "cell_type": "markdown",
   "metadata": {},
   "source": [
    "As a sanity check, run the following to check the initial loss and to gradient check the network both with and without regularization. Do the initial losses seem reasonable?\n",
    "\n",
    "For gradient checking, you should expect to see errors around 1e-7 or less."
   ]
  },
  {
   "cell_type": "code",
   "execution_count": 13,
   "metadata": {},
   "outputs": [
    {
     "name": "stdout",
     "output_type": "stream",
     "text": [
      "Running check with reg =  0\n",
      "Initial loss:  2.3004790897684924\n",
      "W1 relative error: 1.48e-07\n",
      "W2 relative error: 2.21e-05\n",
      "W3 relative error: 3.53e-07\n",
      "b1 relative error: 5.38e-09\n",
      "b2 relative error: 2.09e-09\n",
      "b3 relative error: 5.80e-11\n",
      "Running check with reg =  3.14\n",
      "Initial loss:  7.052114776533016\n",
      "W1 relative error: 3.90e-09\n",
      "W2 relative error: 6.87e-08\n",
      "W3 relative error: 2.13e-08\n",
      "b1 relative error: 1.48e-08\n",
      "b2 relative error: 1.72e-09\n",
      "b3 relative error: 1.57e-10\n"
     ]
    }
   ],
   "source": [
    "np.random.seed(231)\n",
    "N, D, H1, H2, C = 2, 15, 20, 30, 10\n",
    "X = np.random.randn(N, D)\n",
    "y = np.random.randint(C, size=(N,))\n",
    "\n",
    "for reg in [0, 3.14]:\n",
    "  print('Running check with reg = ', reg)\n",
    "  model = FullyConnectedNet([H1, H2], input_dim=D, num_classes=C,\n",
    "                            reg=reg, weight_scale=5e-2, dtype=np.float64)\n",
    "\n",
    "  loss, grads = model.loss(X, y)\n",
    "  print('Initial loss: ', loss)\n",
    "  \n",
    "  # Most of the errors should be on the order of e-7 or smaller.   \n",
    "  # NOTE: It is fine however to see an error for W2 on the order of e-5\n",
    "  # for the check when reg = 0.0\n",
    "  for name in sorted(grads):\n",
    "    f = lambda _: model.loss(X, y)[0]\n",
    "    grad_num = eval_numerical_gradient(f, model.params[name], verbose=False, h=1e-5)\n",
    "    print('%s relative error: %.2e' % (name, rel_error(grad_num, grads[name])))"
   ]
  },
  {
   "cell_type": "markdown",
   "metadata": {},
   "source": [
    "As another sanity check, make sure you can overfit a small dataset of 50 images. First we will try a three-layer network with 100 units in each hidden layer. In the following cell, tweak the learning rate and initialization scale to overfit and achieve 100% training accuracy within 20 epochs."
   ]
  },
  {
   "cell_type": "code",
   "execution_count": 14,
   "metadata": {
    "scrolled": false
   },
   "outputs": [
    {
     "name": "stdout",
     "output_type": "stream",
     "text": [
      "(Iteration 1 / 40) loss: 617.627187\n",
      "(Epoch 0 / 20) train acc: 0.040000; val_acc: 0.109000\n",
      "(Epoch 1 / 20) train acc: 0.060000; val_acc: 0.116000\n",
      "(Epoch 2 / 20) train acc: 0.160000; val_acc: 0.113000\n",
      "(Epoch 3 / 20) train acc: 0.300000; val_acc: 0.134000\n",
      "(Epoch 4 / 20) train acc: 0.360000; val_acc: 0.138000\n",
      "(Epoch 5 / 20) train acc: 0.420000; val_acc: 0.157000\n",
      "(Iteration 11 / 40) loss: 50.164644\n",
      "(Epoch 6 / 20) train acc: 0.540000; val_acc: 0.144000\n",
      "(Epoch 7 / 20) train acc: 0.600000; val_acc: 0.148000\n",
      "(Epoch 8 / 20) train acc: 0.720000; val_acc: 0.153000\n",
      "(Epoch 9 / 20) train acc: 0.740000; val_acc: 0.160000\n",
      "(Epoch 10 / 20) train acc: 0.820000; val_acc: 0.153000\n",
      "(Iteration 21 / 40) loss: 35.928739\n",
      "(Epoch 11 / 20) train acc: 0.780000; val_acc: 0.149000\n",
      "(Epoch 12 / 20) train acc: 0.880000; val_acc: 0.159000\n",
      "(Epoch 13 / 20) train acc: 0.920000; val_acc: 0.148000\n",
      "(Epoch 14 / 20) train acc: 0.880000; val_acc: 0.152000\n",
      "(Epoch 15 / 20) train acc: 0.840000; val_acc: 0.148000\n",
      "(Iteration 31 / 40) loss: 4.332501\n",
      "(Epoch 16 / 20) train acc: 1.000000; val_acc: 0.147000\n",
      "(Epoch 17 / 20) train acc: 1.000000; val_acc: 0.147000\n",
      "(Epoch 18 / 20) train acc: 1.000000; val_acc: 0.148000\n",
      "(Epoch 19 / 20) train acc: 1.000000; val_acc: 0.147000\n",
      "(Epoch 20 / 20) train acc: 1.000000; val_acc: 0.147000\n"
     ]
    }
   ],
   "source": [
    "# TODO: Use a three-layer Net to overfit 50 training examples by \n",
    "# tweaking just the learning rate and initialization scale.\n",
    "\n",
    "num_train = 50\n",
    "small_data = {\n",
    "  'X_train': data['X_train'][:num_train],\n",
    "  'y_train': data['y_train'][:num_train],\n",
    "  'X_val': data['X_val'],\n",
    "  'y_val': data['y_val'],\n",
    "}\n",
    "\n",
    "weight_scale = 0.12\n",
    "learning_rate = 9e-5\n",
    "model = FullyConnectedNet([100, 100],\n",
    "              weight_scale=weight_scale, dtype=np.float64)\n",
    "solver = Solver(model, small_data, num_epochs=20, batch_size=25,\n",
    "                update_rule='sgd',\n",
    "                optim_config={\n",
    "                  'learning_rate': learning_rate,\n",
    "                }\n",
    "         )\n",
    "solver.train()"
   ]
  },
  {
   "cell_type": "code",
   "execution_count": 15,
   "metadata": {},
   "outputs": [
    {
     "data": {
      "image/png": "[encoded data removed]",
      "text/plain": [
       "<Figure size 432x288 with 1 Axes>"
      ]
     },
     "metadata": {},
     "output_type": "display_data"
    }
   ],
   "source": [
    "plt.plot(solver.loss_history, 'o')\n",
    "plt.title('Training loss history')\n",
    "plt.xlabel('Iteration')\n",
    "plt.ylabel('Training loss')\n",
    "plt.show()"
   ]
  },
  {
   "cell_type": "markdown",
   "metadata": {},
   "source": [
    "Now try to use a five-layer network with 100 units on each layer to overfit 50 training examples. Again you will have to adjust the learning rate and weight initialization, but you should be able to achieve 100% training accuracy within 20 epochs."
   ]
  },
  {
   "cell_type": "code",
   "execution_count": 21,
   "metadata": {},
   "outputs": [
    {
     "data": {
      "text/plain": [
       "0.16"
      ]
     },
     "execution_count": 21,
     "metadata": {},
     "output_type": "execute_result"
    }
   ],
   "source": []
  },
  {
   "cell_type": "code",
   "execution_count": 29,
   "metadata": {},
   "outputs": [
    {
     "data": {
      "text/plain": [
       "1.0"
      ]
     },
     "execution_count": 29,
     "metadata": {},
     "output_type": "execute_result"
    }
   ],
   "source": [
    "train_val_acc_val_acc"
   ]
  },
  {
   "cell_type": "code",
   "execution_count": 30,
   "metadata": {},
   "outputs": [
    {
     "data": {
      "text/plain": [
       "0.0052631579894736845"
      ]
     },
     "execution_count": 30,
     "metadata": {},
     "output_type": "execute_result"
    }
   ],
   "source": [
    "best_learning_rate"
   ]
  },
  {
   "cell_type": "code",
   "execution_count": 31,
   "metadata": {},
   "outputs": [
    {
     "data": {
      "text/plain": [
       "0.04210526321578948"
      ]
     },
     "execution_count": 31,
     "metadata": {},
     "output_type": "execute_result"
    }
   ],
   "source": [
    "best_weight_scale"
   ]
  },
  {
   "cell_type": "code",
   "execution_count": 32,
   "metadata": {
    "scrolled": false
   },
   "outputs": [
    {
     "name": "stdout",
     "output_type": "stream",
     "text": [
      "(Iteration 1 / 40) loss: 2.359169\n",
      "(Epoch 0 / 20) train acc: 0.160000; val_acc: 0.084000\n",
      "(Epoch 1 / 20) train acc: 0.220000; val_acc: 0.082000\n",
      "(Epoch 2 / 20) train acc: 0.400000; val_acc: 0.077000\n",
      "(Epoch 3 / 20) train acc: 0.500000; val_acc: 0.085000\n",
      "(Epoch 4 / 20) train acc: 0.460000; val_acc: 0.081000\n",
      "(Epoch 5 / 20) train acc: 0.820000; val_acc: 0.096000\n",
      "(Epoch 6 / 20) train acc: 0.840000; val_acc: 0.103000\n",
      "(Epoch 7 / 20) train acc: 0.800000; val_acc: 0.115000\n",
      "(Epoch 8 / 20) train acc: 0.860000; val_acc: 0.108000\n",
      "(Epoch 9 / 20) train acc: 0.900000; val_acc: 0.137000\n",
      "(Epoch 10 / 20) train acc: 0.920000; val_acc: 0.105000\n",
      "(Epoch 11 / 20) train acc: 0.840000; val_acc: 0.125000\n",
      "(Epoch 12 / 20) train acc: 0.960000; val_acc: 0.121000\n",
      "(Epoch 13 / 20) train acc: 0.920000; val_acc: 0.128000\n",
      "(Epoch 14 / 20) train acc: 0.960000; val_acc: 0.128000\n",
      "(Epoch 15 / 20) train acc: 1.000000; val_acc: 0.125000\n",
      "(Epoch 16 / 20) train acc: 1.000000; val_acc: 0.134000\n",
      "(Epoch 17 / 20) train acc: 1.000000; val_acc: 0.144000\n",
      "(Epoch 18 / 20) train acc: 1.000000; val_acc: 0.131000\n",
      "(Epoch 19 / 20) train acc: 1.000000; val_acc: 0.154000\n",
      "(Epoch 20 / 20) train acc: 1.000000; val_acc: 0.144000\n"
     ]
    }
   ],
   "source": [
    "# TODO: Use a five-layer Net to overfit 50 training examples by \n",
    "# tweaking just the learning rate and initialization scale.\n",
    "\n",
    "num_train = 50\n",
    "small_data = {\n",
    "  'X_train': data['X_train'][:num_train],\n",
    "  'y_train': data['y_train'][:num_train],\n",
    "  'X_val': data['X_val'],\n",
    "  'y_val': data['y_val'],\n",
    "}\n",
    "\n",
    "learning_rate = 0.0052631579894736845\n",
    "weight_scale = 0.04210526321578948\n",
    "model = FullyConnectedNet([100, 100, 100, 100],\n",
    "                weight_scale=weight_scale, dtype=np.float64)\n",
    "solver = Solver(model, small_data,\n",
    "                print_every=100, num_epochs=20, batch_size=25,\n",
    "                update_rule='sgd',\n",
    "                optim_config={\n",
    "                  'learning_rate': learning_rate,\n",
    "                }\n",
    "         )\n",
    "solver.train()\n"
   ]
  },
  {
   "cell_type": "code",
   "execution_count": 33,
   "metadata": {},
   "outputs": [
    {
     "data": {
      "image/png": "[encoded data removed]",
      "text/plain": [
       "<Figure size 432x288 with 1 Axes>"
      ]
     },
     "metadata": {},
     "output_type": "display_data"
    }
   ],
   "source": [
    "plt.plot(solver.loss_history, 'o')\n",
    "plt.title('Training loss history')\n",
    "plt.xlabel('Iteration')\n",
    "plt.ylabel('Training loss')\n",
    "plt.show()"
   ]
  },
  {
   "cell_type": "markdown",
   "metadata": {},
   "source": [
    "## Inline Question 2: \n",
    "Did you notice anything about the comparative difficulty of training the three-layer net vs training the five layer net? In particular, based on your experience, which network seemed more sensitive to the initialization scale? Why do you think that is the case?"
   ]
  },
  {
   "cell_type": "markdown",
   "metadata": {},
   "source": [
    "## Answer:\n",
    "[FILL THIS IN]\n"
   ]
  },
  {
   "cell_type": "markdown",
   "metadata": {},
   "source": [
    "# Update rules\n",
    "So far we have used vanilla stochastic gradient descent (SGD) as our update rule. More sophisticated update rules can make it easier to train deep networks. We will implement a few of the most commonly used update rules and compare them to vanilla SGD."
   ]
  },
  {
   "cell_type": "markdown",
   "metadata": {},
   "source": [
    "# SGD+Momentum\n",
    "Stochastic gradient descent with momentum is a widely used update rule that tends to make deep networks converge faster than vanilla stochastic gradient descent. See the Momentum Update section at http://cs231n.github.io/neural-networks-3/#sgd for more information.\n",
    "\n",
    "Open the file `cs231n/optim.py` and read the documentation at the top of the file to make sure you understand the API. Implement the SGD+momentum update rule in the function `sgd_momentum` and run the following to check your implementation. You should see errors less than e-8."
   ]
  },
  {
   "cell_type": "code",
   "execution_count": 34,
   "metadata": {},
   "outputs": [
    {
     "name": "stdout",
     "output_type": "stream",
     "text": [
      "next_w error:  8.882347033505819e-09\n",
      "velocity error:  4.269287743278663e-09\n"
     ]
    }
   ],
   "source": [
    "from cs231n.optim import sgd_momentum\n",
    "\n",
    "N, D = 4, 5\n",
    "w = np.linspace(-0.4, 0.6, num=N*D).reshape(N, D)\n",
    "dw = np.linspace(-0.6, 0.4, num=N*D).reshape(N, D)\n",
    "v = np.linspace(0.6, 0.9, num=N*D).reshape(N, D)\n",
    "\n",
    "config = {'learning_rate': 1e-3, 'velocity': v}\n",
    "next_w, _ = sgd_momentum(w, dw, config=config)\n",
    "\n",
    "expected_next_w = np.asarray([\n",
    "  [ 0.1406,      0.20738947,  0.27417895,  0.34096842,  0.40775789],\n",
    "  [ 0.47454737,  0.54133684,  0.60812632,  0.67491579,  0.74170526],\n",
    "  [ 0.80849474,  0.87528421,  0.94207368,  1.00886316,  1.07565263],\n",
    "  [ 1.14244211,  1.20923158,  1.27602105,  1.34281053,  1.4096    ]])\n",
    "expected_velocity = np.asarray([\n",
    "  [ 0.5406,      0.55475789,  0.56891579, 0.58307368,  0.59723158],\n",
    "  [ 0.61138947,  0.62554737,  0.63970526,  0.65386316,  0.66802105],\n",
    "  [ 0.68217895,  0.69633684,  0.71049474,  0.72465263,  0.73881053],\n",
    "  [ 0.75296842,  0.76712632,  0.78128421,  0.79544211,  0.8096    ]])\n",
    "\n",
    "# Should see relative errors around e-8 or less\n",
    "print('next_w error: ', rel_error(next_w, expected_next_w))\n",
    "print('velocity error: ', rel_error(expected_velocity, config['velocity']))"
   ]
  },
  {
   "cell_type": "markdown",
   "metadata": {},
   "source": [
    "Once you have done so, run the following to train a six-layer network with both SGD and SGD+momentum. You should see the SGD+momentum update rule converge faster."
   ]
  },
  {
   "cell_type": "code",
   "execution_count": 35,
   "metadata": {
    "scrolled": false
   },
   "outputs": [
    {
     "name": "stdout",
     "output_type": "stream",
     "text": [
      "running with  sgd\n",
      "(Iteration 1 / 200) loss: 2.818316\n",
      "(Epoch 0 / 5) train acc: 0.083000; val_acc: 0.086000\n",
      "(Iteration 11 / 200) loss: 2.309971\n",
      "(Iteration 21 / 200) loss: 2.077763\n",
      "(Iteration 31 / 200) loss: 2.020035\n",
      "(Epoch 1 / 5) train acc: 0.288000; val_acc: 0.258000\n",
      "(Iteration 41 / 200) loss: 1.988008\n",
      "(Iteration 51 / 200) loss: 2.048530\n",
      "(Iteration 61 / 200) loss: 1.966242\n",
      "(Iteration 71 / 200) loss: 2.167923\n",
      "(Epoch 2 / 5) train acc: 0.336000; val_acc: 0.305000\n",
      "(Iteration 81 / 200) loss: 1.955353\n",
      "(Iteration 91 / 200) loss: 1.731270\n",
      "(Iteration 101 / 200) loss: 1.887685\n",
      "(Iteration 111 / 200) loss: 1.891268\n",
      "(Epoch 3 / 5) train acc: 0.369000; val_acc: 0.324000\n",
      "(Iteration 121 / 200) loss: 1.805364\n",
      "(Iteration 131 / 200) loss: 1.902115\n",
      "(Iteration 141 / 200) loss: 1.855375\n",
      "(Iteration 151 / 200) loss: 1.829159\n",
      "(Epoch 4 / 5) train acc: 0.403000; val_acc: 0.356000\n",
      "(Iteration 161 / 200) loss: 1.657693\n",
      "(Iteration 171 / 200) loss: 1.561351\n",
      "(Iteration 181 / 200) loss: 1.729651\n",
      "(Iteration 191 / 200) loss: 1.584856\n",
      "(Epoch 5 / 5) train acc: 0.439000; val_acc: 0.326000\n",
      "\n",
      "running with  sgd_momentum\n",
      "(Iteration 1 / 200) loss: 2.807981\n",
      "(Epoch 0 / 5) train acc: 0.136000; val_acc: 0.128000\n",
      "(Iteration 11 / 200) loss: 2.172176\n",
      "(Iteration 21 / 200) loss: 2.027233\n",
      "(Iteration 31 / 200) loss: 1.993394\n",
      "(Epoch 1 / 5) train acc: 0.298000; val_acc: 0.289000\n",
      "(Iteration 41 / 200) loss: 2.115401\n",
      "(Iteration 51 / 200) loss: 1.989756\n",
      "(Iteration 61 / 200) loss: 1.623090\n",
      "(Iteration 71 / 200) loss: 1.707747\n",
      "(Epoch 2 / 5) train acc: 0.403000; val_acc: 0.326000\n",
      "(Iteration 81 / 200) loss: 1.672742\n",
      "(Iteration 91 / 200) loss: 1.660958\n",
      "(Iteration 101 / 200) loss: 1.542904\n",
      "(Iteration 111 / 200) loss: 1.652819\n",
      "(Epoch 3 / 5) train acc: 0.415000; val_acc: 0.337000\n",
      "(Iteration 121 / 200) loss: 1.538203\n",
      "(Iteration 131 / 200) loss: 1.746722\n",
      "(Iteration 141 / 200) loss: 1.543105\n",
      "(Iteration 151 / 200) loss: 1.689282\n",
      "(Epoch 4 / 5) train acc: 0.479000; val_acc: 0.341000\n",
      "(Iteration 161 / 200) loss: 1.579218\n",
      "(Iteration 171 / 200) loss: 1.367280\n",
      "(Iteration 181 / 200) loss: 1.459468\n",
      "(Iteration 191 / 200) loss: 1.296317\n",
      "(Epoch 5 / 5) train acc: 0.558000; val_acc: 0.356000\n",
      "\n"
     ]
    },
    {
     "name": "stderr",
     "output_type": "stream",
     "text": [
      "/home/sean/anaconda3/lib/python3.6/site-packages/matplotlib/cbook/deprecation.py:107: MatplotlibDeprecationWarning: Adding an axes using the same arguments as a previous axes currently reuses the earlier instance.  In a future version, a new instance will always be created and returned.  Meanwhile, this warning can be suppressed, and the future behavior ensured, by passing a unique label to each axes instance.\n",
      "  warnings.warn(message, mplDeprecation, stacklevel=1)\n"
     ]
    },
    {
     "data": {
      "image/png": "[encoded data removed]",
      "text/plain": [
       "<Figure size 1080x1080 with 3 Axes>"
      ]
     },
     "metadata": {},
     "output_type": "display_data"
    }
   ],
   "source": [
    "num_train = 4000\n",
    "small_data = {\n",
    "  'X_train': data['X_train'][:num_train],\n",
    "  'y_train': data['y_train'][:num_train],\n",
    "  'X_val': data['X_val'],\n",
    "  'y_val': data['y_val'],\n",
    "}\n",
    "\n",
    "solvers = {}\n",
    "\n",
    "for update_rule in ['sgd', 'sgd_momentum']:\n",
    "  print('running with ', update_rule)\n",
    "  model = FullyConnectedNet([100, 100, 100, 100, 100], weight_scale=5e-2)\n",
    "\n",
    "  solver = Solver(model, small_data,\n",
    "                  num_epochs=5, batch_size=100,\n",
    "                  update_rule=update_rule,\n",
    "                  optim_config={\n",
    "                    'learning_rate': 1e-2,\n",
    "                  },\n",
    "                  verbose=True)\n",
    "  solvers[update_rule] = solver\n",
    "  solver.train()\n",
    "  print()\n",
    "\n",
    "plt.subplot(3, 1, 1)\n",
    "plt.title('Training loss')\n",
    "plt.xlabel('Iteration')\n",
    "\n",
    "plt.subplot(3, 1, 2)\n",
    "plt.title('Training accuracy')\n",
    "plt.xlabel('Epoch')\n",
    "\n",
    "plt.subplot(3, 1, 3)\n",
    "plt.title('Validation accuracy')\n",
    "plt.xlabel('Epoch')\n",
    "\n",
    "for update_rule, solver in list(solvers.items()):\n",
    "  plt.subplot(3, 1, 1)\n",
    "  plt.plot(solver.loss_history, 'o', label=update_rule)\n",
    "  \n",
    "  plt.subplot(3, 1, 2)\n",
    "  plt.plot(solver.train_acc_history, '-o', label=update_rule)\n",
    "\n",
    "  plt.subplot(3, 1, 3)\n",
    "  plt.plot(solver.val_acc_history, '-o', label=update_rule)\n",
    "  \n",
    "for i in [1, 2, 3]:\n",
    "  plt.subplot(3, 1, i)\n",
    "  plt.legend(loc='upper center', ncol=4)\n",
    "plt.gcf().set_size_inches(15, 15)\n",
    "plt.show()"
   ]
  },
  {
   "cell_type": "markdown",
   "metadata": {},
   "source": [
    "# RMSProp and Adam\n",
    "RMSProp [1] and Adam [2] are update rules that set per-parameter learning rates by using a running average of the second moments of gradients.\n",
    "\n",
    "In the file `cs231n/optim.py`, implement the RMSProp update rule in the `rmsprop` function and implement the Adam update rule in the `adam` function, and check your implementations using the tests below.\n",
    "\n",
    "**NOTE:** Please implement the _complete_ Adam update rule (with the bias correction mechanism), not the first simplified version mentioned in the course notes. \n",
    "\n",
    "[1] Tijmen Tieleman and Geoffrey Hinton. \"Lecture 6.5-rmsprop: Divide the gradient by a running average of its recent magnitude.\" COURSERA: Neural Networks for Machine Learning 4 (2012).\n",
    "\n",
    "[2] Diederik Kingma and Jimmy Ba, \"Adam: A Method for Stochastic Optimization\", ICLR 2015."
   ]
  },
  {
   "cell_type": "code",
   "execution_count": 44,
   "metadata": {},
   "outputs": [
    {
     "name": "stdout",
     "output_type": "stream",
     "text": [
      "next_w error:  9.524687511038133e-08\n",
      "cache error:  2.6477955807156126e-09\n"
     ]
    }
   ],
   "source": [
    "# Test RMSProp implementation\n",
    "from cs231n.optim import rmsprop\n",
    "\n",
    "N, D = 4, 5\n",
    "w = np.linspace(-0.4, 0.6, num=N*D).reshape(N, D)\n",
    "dw = np.linspace(-0.6, 0.4, num=N*D).reshape(N, D)\n",
    "cache = np.linspace(0.6, 0.9, num=N*D).reshape(N, D)\n",
    "\n",
    "config = {'learning_rate': 1e-2, 'cache': cache}\n",
    "next_w, _ = rmsprop(w, dw, config=config)\n",
    "\n",
    "expected_next_w = np.asarray([\n",
    "  [-0.39223849, -0.34037513, -0.28849239, -0.23659121, -0.18467247],\n",
    "  [-0.132737,   -0.08078555, -0.02881884,  0.02316247,  0.07515774],\n",
    "  [ 0.12716641,  0.17918792,  0.23122175,  0.28326742,  0.33532447],\n",
    "  [ 0.38739248,  0.43947102,  0.49155973,  0.54365823,  0.59576619]])\n",
    "expected_cache = np.asarray([\n",
    "  [ 0.5976,      0.6126277,   0.6277108,   0.64284931,  0.65804321],\n",
    "  [ 0.67329252,  0.68859723,  0.70395734,  0.71937285,  0.73484377],\n",
    "  [ 0.75037008,  0.7659518,   0.78158892,  0.79728144,  0.81302936],\n",
    "  [ 0.82883269,  0.84469141,  0.86060554,  0.87657507,  0.8926    ]])\n",
    "\n",
    "# You should see relative errors around e-7 or less\n",
    "print('next_w error: ', rel_error(expected_next_w, next_w))\n",
    "print('cache error: ', rel_error(expected_cache, config['cache']))"
   ]
  },
  {
   "cell_type": "code",
   "execution_count": 54,
   "metadata": {},
   "outputs": [
    {
     "name": "stdout",
     "output_type": "stream",
     "text": [
      "next_w error:  1.1395691798535431e-07\n",
      "v error:  4.208314038113071e-09\n",
      "m error:  4.214963193114416e-09\n"
     ]
    }
   ],
   "source": [
    "# Test Adam implementation\n",
    "from cs231n.optim import adam\n",
    "\n",
    "N, D = 4, 5\n",
    "w = np.linspace(-0.4, 0.6, num=N*D).reshape(N, D)\n",
    "dw = np.linspace(-0.6, 0.4, num=N*D).reshape(N, D)\n",
    "m = np.linspace(0.6, 0.9, num=N*D).reshape(N, D)\n",
    "v = np.linspace(0.7, 0.5, num=N*D).reshape(N, D)\n",
    "\n",
    "config = {'learning_rate': 1e-2, 'm': m, 'v': v, 't': 5}\n",
    "next_w, _ = adam(w, dw, config=config)\n",
    "\n",
    "expected_next_w = np.asarray([\n",
    "  [-0.40094747, -0.34836187, -0.29577703, -0.24319299, -0.19060977],\n",
    "  [-0.1380274,  -0.08544591, -0.03286534,  0.01971428,  0.0722929],\n",
    "  [ 0.1248705,   0.17744702,  0.23002243,  0.28259667,  0.33516969],\n",
    "  [ 0.38774145,  0.44031188,  0.49288093,  0.54544852,  0.59801459]])\n",
    "expected_v = np.asarray([\n",
    "  [ 0.69966,     0.68908382,  0.67851319,  0.66794809,  0.65738853,],\n",
    "  [ 0.64683452,  0.63628604,  0.6257431,   0.61520571,  0.60467385,],\n",
    "  [ 0.59414753,  0.58362676,  0.57311152,  0.56260183,  0.55209767,],\n",
    "  [ 0.54159906,  0.53110598,  0.52061845,  0.51013645,  0.49966,   ]])\n",
    "expected_m = np.asarray([\n",
    "  [ 0.48,        0.49947368,  0.51894737,  0.53842105,  0.55789474],\n",
    "  [ 0.57736842,  0.59684211,  0.61631579,  0.63578947,  0.65526316],\n",
    "  [ 0.67473684,  0.69421053,  0.71368421,  0.73315789,  0.75263158],\n",
    "  [ 0.77210526,  0.79157895,  0.81105263,  0.83052632,  0.85      ]])\n",
    "\n",
    "# You should see relative errors around e-7 or less\n",
    "print('next_w error: ', rel_error(expected_next_w, next_w))\n",
    "print('v error: ', rel_error(expected_v, config['v']))\n",
    "print('m error: ', rel_error(expected_m, config['m']))"
   ]
  },
  {
   "cell_type": "markdown",
   "metadata": {},
   "source": [
    "Once you have debugged your RMSProp and Adam implementations, run the following to train a pair of deep networks using these new update rules:"
   ]
  },
  {
   "cell_type": "code",
   "execution_count": 56,
   "metadata": {},
   "outputs": [
    {
     "name": "stdout",
     "output_type": "stream",
     "text": [
      "running with  adam\n",
      "(Iteration 1 / 200) loss: 2.412025\n",
      "(Epoch 0 / 5) train acc: 0.117000; val_acc: 0.152000\n",
      "(Iteration 11 / 200) loss: 2.004020\n",
      "(Iteration 21 / 200) loss: 1.906417\n",
      "(Iteration 31 / 200) loss: 1.690853\n",
      "(Epoch 1 / 5) train acc: 0.365000; val_acc: 0.316000\n",
      "(Iteration 41 / 200) loss: 1.718967\n",
      "(Iteration 51 / 200) loss: 1.733339\n",
      "(Iteration 61 / 200) loss: 1.598644\n",
      "(Iteration 71 / 200) loss: 1.706751\n",
      "(Epoch 2 / 5) train acc: 0.443000; val_acc: 0.358000\n",
      "(Iteration 81 / 200) loss: 1.530732\n",
      "(Iteration 91 / 200) loss: 1.656320\n",
      "(Iteration 101 / 200) loss: 1.561580\n",
      "(Iteration 111 / 200) loss: 1.454056\n",
      "(Epoch 3 / 5) train acc: 0.525000; val_acc: 0.355000\n",
      "(Iteration 121 / 200) loss: 1.371527\n",
      "(Iteration 131 / 200) loss: 1.453833\n",
      "(Iteration 141 / 200) loss: 1.383677\n",
      "(Iteration 151 / 200) loss: 1.366031\n",
      "(Epoch 4 / 5) train acc: 0.572000; val_acc: 0.390000\n",
      "(Iteration 161 / 200) loss: 1.527129\n",
      "(Iteration 171 / 200) loss: 1.089066\n",
      "(Iteration 181 / 200) loss: 1.225779\n",
      "(Iteration 191 / 200) loss: 0.992936\n",
      "(Epoch 5 / 5) train acc: 0.605000; val_acc: 0.367000\n",
      "\n",
      "running with  rmsprop\n",
      "(Iteration 1 / 200) loss: 2.604591\n",
      "(Epoch 0 / 5) train acc: 0.155000; val_acc: 0.130000\n",
      "(Iteration 11 / 200) loss: 2.068907\n",
      "(Iteration 21 / 200) loss: 1.909167\n",
      "(Iteration 31 / 200) loss: 1.881036\n",
      "(Epoch 1 / 5) train acc: 0.380000; val_acc: 0.312000\n",
      "(Iteration 41 / 200) loss: 1.865156\n",
      "(Iteration 51 / 200) loss: 1.794307\n",
      "(Iteration 61 / 200) loss: 1.741203\n",
      "(Iteration 71 / 200) loss: 1.760070\n",
      "(Epoch 2 / 5) train acc: 0.404000; val_acc: 0.333000\n",
      "(Iteration 81 / 200) loss: 1.786585\n",
      "(Iteration 91 / 200) loss: 1.523980\n",
      "(Iteration 101 / 200) loss: 1.725757\n",
      "(Iteration 111 / 200) loss: 1.618602\n",
      "(Epoch 3 / 5) train acc: 0.445000; val_acc: 0.351000\n",
      "(Iteration 121 / 200) loss: 1.522728\n",
      "(Iteration 131 / 200) loss: 1.559508\n",
      "(Iteration 141 / 200) loss: 1.483127\n",
      "(Iteration 151 / 200) loss: 1.441947\n",
      "(Epoch 4 / 5) train acc: 0.489000; val_acc: 0.358000\n",
      "(Iteration 161 / 200) loss: 1.361488\n",
      "(Iteration 171 / 200) loss: 1.469691\n",
      "(Iteration 181 / 200) loss: 1.376027\n",
      "(Iteration 191 / 200) loss: 1.537522\n",
      "(Epoch 5 / 5) train acc: 0.490000; val_acc: 0.357000\n",
      "\n"
     ]
    },
    {
     "name": "stderr",
     "output_type": "stream",
     "text": [
      "/home/sean/anaconda3/lib/python3.6/site-packages/matplotlib/cbook/deprecation.py:107: MatplotlibDeprecationWarning: Adding an axes using the same arguments as a previous axes currently reuses the earlier instance.  In a future version, a new instance will always be created and returned.  Meanwhile, this warning can be suppressed, and the future behavior ensured, by passing a unique label to each axes instance.\n",
      "  warnings.warn(message, mplDeprecation, stacklevel=1)\n"
     ]
    },
    {
     "data": {
      "image/png": "[encoded data removed]",
      "text/plain": [
       "<Figure size 1080x1080 with 3 Axes>"
      ]
     },
     "metadata": {},
     "output_type": "display_data"
    }
   ],
   "source": [
    "learning_rates = {'rmsprop': 1e-4, 'adam': 1e-3}\n",
    "for update_rule in ['adam', 'rmsprop']:\n",
    "  print('running with ', update_rule)\n",
    "  model = FullyConnectedNet([100, 100, 100, 100, 100], weight_scale=5e-2)\n",
    "\n",
    "  solver = Solver(model, small_data,\n",
    "                  num_epochs=5, batch_size=100,\n",
    "                  update_rule=update_rule,\n",
    "                  optim_config={\n",
    "                    'learning_rate': learning_rates[update_rule]\n",
    "                  },\n",
    "                  verbose=True)\n",
    "  solvers[update_rule] = solver\n",
    "  solver.train()\n",
    "  print()\n",
    "\n",
    "plt.subplot(3, 1, 1)\n",
    "plt.title('Training loss')\n",
    "plt.xlabel('Iteration')\n",
    "\n",
    "plt.subplot(3, 1, 2)\n",
    "plt.title('Training accuracy')\n",
    "plt.xlabel('Epoch')\n",
    "\n",
    "plt.subplot(3, 1, 3)\n",
    "plt.title('Validation accuracy')\n",
    "plt.xlabel('Epoch')\n",
    "\n",
    "for update_rule, solver in list(solvers.items()):\n",
    "  plt.subplot(3, 1, 1)\n",
    "  plt.plot(solver.loss_history, 'o', label=update_rule)\n",
    "  \n",
    "  plt.subplot(3, 1, 2)\n",
    "  plt.plot(solver.train_acc_history, '-o', label=update_rule)\n",
    "\n",
    "  plt.subplot(3, 1, 3)\n",
    "  plt.plot(solver.val_acc_history, '-o', label=update_rule)\n",
    "  \n",
    "for i in [1, 2, 3]:\n",
    "  plt.subplot(3, 1, i)\n",
    "  plt.legend(loc='upper center', ncol=4)\n",
    "plt.gcf().set_size_inches(15, 15)\n",
    "plt.show()"
   ]
  },
  {
   "cell_type": "markdown",
   "metadata": {},
   "source": [
    "## Inline Question 3:\n",
    "\n",
    "AdaGrad, like Adam, is a per-parameter optimization method that uses the following update rule:\n",
    "\n",
    "```\n",
    "cache += dw**2\n",
    "w += - learning_rate * dw / (np.sqrt(cache) + eps)\n",
    "```\n",
    "\n",
    "John notices that when he was training a network with AdaGrad that the updates became very small, and that his network was learning slowly. Using your knowledge of the AdaGrad update rule, why do you think the updates would become very small? Would Adam have the same issue?\n"
   ]
  },
  {
   "cell_type": "markdown",
   "metadata": {},
   "source": [
    "Because cache increases monotonically"
   ]
  },
  {
   "cell_type": "markdown",
   "metadata": {},
   "source": [
    "## Answer: \n"
   ]
  },
  {
   "cell_type": "markdown",
   "metadata": {},
   "source": [
    "# Train a good model!\n",
    "Train the best fully-connected model that you can on CIFAR-10, storing your best model in the `best_model` variable. We require you to get at least 50% accuracy on the validation set using a fully-connected net.\n",
    "\n",
    "If you are careful it should be possible to get accuracies above 55%, but we don't require it for this part and won't assign extra credit for doing so. Later in the assignment we will ask you to train the best convolutional network that you can on CIFAR-10, and we would prefer that you spend your effort working on convolutional nets rather than fully-connected nets.\n",
    "\n",
    "You might find it useful to complete the `BatchNormalization.ipynb` and `Dropout.ipynb` notebooks before completing this part, since those techniques can help you train powerful models."
   ]
  },
  {
   "cell_type": "code",
   "execution_count": 61,
   "metadata": {
    "scrolled": false
   },
   "outputs": [
    {
     "name": "stdout",
     "output_type": "stream",
     "text": [
      "(Iteration 1 / 4900) loss: 2.491500\n",
      "(Epoch 0 / 10) train acc: 0.170000; val_acc: 0.169000\n",
      "(Iteration 11 / 4900) loss: 2.191706\n",
      "(Iteration 21 / 4900) loss: 1.941666\n",
      "(Iteration 31 / 4900) loss: 2.029901\n",
      "(Iteration 41 / 4900) loss: 1.846634\n",
      "(Iteration 51 / 4900) loss: 1.866753\n",
      "(Iteration 61 / 4900) loss: 1.729027\n",
      "(Iteration 71 / 4900) loss: 1.888387\n",
      "(Iteration 81 / 4900) loss: 1.762933\n",
      "(Iteration 91 / 4900) loss: 1.877427\n",
      "(Iteration 101 / 4900) loss: 1.701412\n",
      "(Iteration 111 / 4900) loss: 1.937585\n",
      "(Iteration 121 / 4900) loss: 1.803907\n",
      "(Iteration 131 / 4900) loss: 1.652219\n",
      "(Iteration 141 / 4900) loss: 1.900039\n",
      "(Iteration 151 / 4900) loss: 1.649675\n",
      "(Iteration 161 / 4900) loss: 1.759018\n",
      "(Iteration 171 / 4900) loss: 1.577070\n",
      "(Iteration 181 / 4900) loss: 1.680495\n",
      "(Iteration 191 / 4900) loss: 1.771849\n",
      "(Iteration 201 / 4900) loss: 1.523654\n",
      "(Iteration 211 / 4900) loss: 1.559929\n",
      "(Iteration 221 / 4900) loss: 1.777941\n",
      "(Iteration 231 / 4900) loss: 1.672847\n",
      "(Iteration 241 / 4900) loss: 1.626009\n",
      "(Iteration 251 / 4900) loss: 1.710771\n",
      "(Iteration 261 / 4900) loss: 1.654740\n",
      "(Iteration 271 / 4900) loss: 1.610320\n",
      "(Iteration 281 / 4900) loss: 1.755660\n",
      "(Iteration 291 / 4900) loss: 1.520941\n",
      "(Iteration 301 / 4900) loss: 1.651515\n",
      "(Iteration 311 / 4900) loss: 1.532881\n",
      "(Iteration 321 / 4900) loss: 1.647647\n",
      "(Iteration 331 / 4900) loss: 1.631628\n",
      "(Iteration 341 / 4900) loss: 1.509408\n",
      "(Iteration 351 / 4900) loss: 1.581106\n",
      "(Iteration 361 / 4900) loss: 1.460080\n",
      "(Iteration 371 / 4900) loss: 1.625993\n",
      "(Iteration 381 / 4900) loss: 1.559125\n",
      "(Iteration 391 / 4900) loss: 1.516026\n",
      "(Iteration 401 / 4900) loss: 1.425319\n",
      "(Iteration 411 / 4900) loss: 1.610640\n",
      "(Iteration 421 / 4900) loss: 1.388399\n",
      "(Iteration 431 / 4900) loss: 1.595394\n",
      "(Iteration 441 / 4900) loss: 1.470187\n",
      "(Iteration 451 / 4900) loss: 1.554933\n",
      "(Iteration 461 / 4900) loss: 1.696730\n",
      "(Iteration 471 / 4900) loss: 1.343906\n",
      "(Iteration 481 / 4900) loss: 1.530198\n",
      "(Epoch 1 / 10) train acc: 0.439000; val_acc: 0.438000\n",
      "(Iteration 491 / 4900) loss: 1.607645\n",
      "(Iteration 501 / 4900) loss: 1.565181\n",
      "(Iteration 511 / 4900) loss: 1.649181\n",
      "(Iteration 521 / 4900) loss: 1.456255\n",
      "(Iteration 531 / 4900) loss: 1.673914\n",
      "(Iteration 541 / 4900) loss: 1.535895\n",
      "(Iteration 551 / 4900) loss: 1.577088\n",
      "(Iteration 561 / 4900) loss: 1.486146\n",
      "(Iteration 571 / 4900) loss: 1.618272\n",
      "(Iteration 581 / 4900) loss: 1.634113\n",
      "(Iteration 591 / 4900) loss: 1.750482\n",
      "(Iteration 601 / 4900) loss: 1.433239\n",
      "(Iteration 611 / 4900) loss: 1.524347\n",
      "(Iteration 621 / 4900) loss: 1.612151\n",
      "(Iteration 631 / 4900) loss: 1.618429\n",
      "(Iteration 641 / 4900) loss: 1.541748\n",
      "(Iteration 651 / 4900) loss: 1.369306\n",
      "(Iteration 661 / 4900) loss: 1.613696\n",
      "(Iteration 671 / 4900) loss: 1.356135\n",
      "(Iteration 681 / 4900) loss: 1.616621\n",
      "(Iteration 691 / 4900) loss: 1.643399\n",
      "(Iteration 701 / 4900) loss: 1.398441\n",
      "(Iteration 711 / 4900) loss: 1.395667\n",
      "(Iteration 721 / 4900) loss: 1.463937\n",
      "(Iteration 731 / 4900) loss: 1.520455\n",
      "(Iteration 741 / 4900) loss: 1.627178\n",
      "(Iteration 751 / 4900) loss: 1.463337\n",
      "(Iteration 761 / 4900) loss: 1.466990\n",
      "(Iteration 771 / 4900) loss: 1.421833\n",
      "(Iteration 781 / 4900) loss: 1.529274\n",
      "(Iteration 791 / 4900) loss: 1.610640\n",
      "(Iteration 801 / 4900) loss: 1.494490\n",
      "(Iteration 811 / 4900) loss: 1.446857\n",
      "(Iteration 821 / 4900) loss: 1.363653\n",
      "(Iteration 831 / 4900) loss: 1.536618\n",
      "(Iteration 841 / 4900) loss: 1.352920\n",
      "(Iteration 851 / 4900) loss: 1.485213\n",
      "(Iteration 861 / 4900) loss: 1.499057\n",
      "(Iteration 871 / 4900) loss: 1.648842\n",
      "(Iteration 881 / 4900) loss: 1.417870\n",
      "(Iteration 891 / 4900) loss: 1.542060\n",
      "(Iteration 901 / 4900) loss: 1.701984\n",
      "(Iteration 911 / 4900) loss: 1.684071\n",
      "(Iteration 921 / 4900) loss: 1.639104\n",
      "(Iteration 931 / 4900) loss: 1.665140\n",
      "(Iteration 941 / 4900) loss: 1.381570\n",
      "(Iteration 951 / 4900) loss: 1.644602\n",
      "(Iteration 961 / 4900) loss: 1.455097\n",
      "(Iteration 971 / 4900) loss: 1.416671\n",
      "(Epoch 2 / 10) train acc: 0.478000; val_acc: 0.455000\n",
      "(Iteration 981 / 4900) loss: 1.383516\n",
      "(Iteration 991 / 4900) loss: 1.357097\n",
      "(Iteration 1001 / 4900) loss: 1.557688\n",
      "(Iteration 1011 / 4900) loss: 1.531542\n",
      "(Iteration 1021 / 4900) loss: 1.305383\n",
      "(Iteration 1031 / 4900) loss: 1.440659\n",
      "(Iteration 1041 / 4900) loss: 1.402234\n",
      "(Iteration 1051 / 4900) loss: 1.535351\n",
      "(Iteration 1061 / 4900) loss: 1.365869\n",
      "(Iteration 1071 / 4900) loss: 1.337563\n",
      "(Iteration 1081 / 4900) loss: 1.209423\n",
      "(Iteration 1091 / 4900) loss: 1.368787\n",
      "(Iteration 1101 / 4900) loss: 1.323474\n",
      "(Iteration 1111 / 4900) loss: 1.545835\n",
      "(Iteration 1121 / 4900) loss: 1.514903\n",
      "(Iteration 1131 / 4900) loss: 1.497085\n",
      "(Iteration 1141 / 4900) loss: 1.543377\n",
      "(Iteration 1151 / 4900) loss: 1.378299\n",
      "(Iteration 1161 / 4900) loss: 1.297708\n",
      "(Iteration 1171 / 4900) loss: 1.522082\n",
      "(Iteration 1181 / 4900) loss: 1.205887\n",
      "(Iteration 1191 / 4900) loss: 1.301011\n",
      "(Iteration 1201 / 4900) loss: 1.362307\n",
      "(Iteration 1211 / 4900) loss: 1.469977\n",
      "(Iteration 1221 / 4900) loss: 1.409220\n",
      "(Iteration 1231 / 4900) loss: 1.590775\n",
      "(Iteration 1241 / 4900) loss: 1.433972\n",
      "(Iteration 1251 / 4900) loss: 1.462016\n",
      "(Iteration 1261 / 4900) loss: 1.312927\n",
      "(Iteration 1271 / 4900) loss: 1.303973\n",
      "(Iteration 1281 / 4900) loss: 1.306934\n",
      "(Iteration 1291 / 4900) loss: 1.439812\n",
      "(Iteration 1301 / 4900) loss: 1.338888\n",
      "(Iteration 1311 / 4900) loss: 1.174288\n",
      "(Iteration 1321 / 4900) loss: 1.354086\n",
      "(Iteration 1331 / 4900) loss: 1.342378\n",
      "(Iteration 1341 / 4900) loss: 1.528741\n",
      "(Iteration 1351 / 4900) loss: 1.413630\n",
      "(Iteration 1361 / 4900) loss: 1.362089\n",
      "(Iteration 1371 / 4900) loss: 1.564294\n",
      "(Iteration 1381 / 4900) loss: 1.447243\n",
      "(Iteration 1391 / 4900) loss: 1.522168\n",
      "(Iteration 1401 / 4900) loss: 1.382323\n",
      "(Iteration 1411 / 4900) loss: 1.254651\n",
      "(Iteration 1421 / 4900) loss: 1.284598\n",
      "(Iteration 1431 / 4900) loss: 1.304618\n",
      "(Iteration 1441 / 4900) loss: 1.572510\n",
      "(Iteration 1451 / 4900) loss: 1.370319\n",
      "(Iteration 1461 / 4900) loss: 1.301787\n",
      "(Epoch 3 / 10) train acc: 0.494000; val_acc: 0.489000\n",
      "(Iteration 1471 / 4900) loss: 1.537686\n",
      "(Iteration 1481 / 4900) loss: 1.599337\n",
      "(Iteration 1491 / 4900) loss: 1.572943\n",
      "(Iteration 1501 / 4900) loss: 1.237184\n",
      "(Iteration 1511 / 4900) loss: 1.280786\n",
      "(Iteration 1521 / 4900) loss: 1.450986\n",
      "(Iteration 1531 / 4900) loss: 1.456112\n",
      "(Iteration 1541 / 4900) loss: 1.280110\n",
      "(Iteration 1551 / 4900) loss: 1.448179\n",
      "(Iteration 1561 / 4900) loss: 1.270151\n",
      "(Iteration 1571 / 4900) loss: 1.288600\n",
      "(Iteration 1581 / 4900) loss: 1.421965\n",
      "(Iteration 1591 / 4900) loss: 1.297381\n",
      "(Iteration 1601 / 4900) loss: 1.255142\n",
      "(Iteration 1611 / 4900) loss: 1.573601\n",
      "(Iteration 1621 / 4900) loss: 1.286419\n",
      "(Iteration 1631 / 4900) loss: 1.346436\n",
      "(Iteration 1641 / 4900) loss: 1.304195\n",
      "(Iteration 1651 / 4900) loss: 1.458323\n",
      "(Iteration 1661 / 4900) loss: 1.215663\n",
      "(Iteration 1671 / 4900) loss: 1.379663\n",
      "(Iteration 1681 / 4900) loss: 1.367303\n",
      "(Iteration 1691 / 4900) loss: 1.307482\n",
      "(Iteration 1701 / 4900) loss: 1.400206\n",
      "(Iteration 1711 / 4900) loss: 1.233912\n",
      "(Iteration 1721 / 4900) loss: 1.464672\n",
      "(Iteration 1731 / 4900) loss: 1.323901\n",
      "(Iteration 1741 / 4900) loss: 1.332380\n",
      "(Iteration 1751 / 4900) loss: 1.267849\n",
      "(Iteration 1761 / 4900) loss: 1.400685\n",
      "(Iteration 1771 / 4900) loss: 1.221045\n",
      "(Iteration 1781 / 4900) loss: 1.502868\n",
      "(Iteration 1791 / 4900) loss: 1.440324\n",
      "(Iteration 1801 / 4900) loss: 1.224732\n",
      "(Iteration 1811 / 4900) loss: 1.304860\n",
      "(Iteration 1821 / 4900) loss: 1.530204\n",
      "(Iteration 1831 / 4900) loss: 1.511805\n",
      "(Iteration 1841 / 4900) loss: 1.513989\n",
      "(Iteration 1851 / 4900) loss: 1.499609\n",
      "(Iteration 1861 / 4900) loss: 1.372818\n",
      "(Iteration 1871 / 4900) loss: 1.371448\n",
      "(Iteration 1881 / 4900) loss: 1.401404\n",
      "(Iteration 1891 / 4900) loss: 1.332760\n",
      "(Iteration 1901 / 4900) loss: 1.299650\n",
      "(Iteration 1911 / 4900) loss: 1.297174\n",
      "(Iteration 1921 / 4900) loss: 1.409992\n",
      "(Iteration 1931 / 4900) loss: 1.381571\n",
      "(Iteration 1941 / 4900) loss: 1.303768\n",
      "(Iteration 1951 / 4900) loss: 1.492328\n",
      "(Epoch 4 / 10) train acc: 0.502000; val_acc: 0.494000\n",
      "(Iteration 1961 / 4900) loss: 1.402643\n",
      "(Iteration 1971 / 4900) loss: 1.226457\n",
      "(Iteration 1981 / 4900) loss: 1.172117\n",
      "(Iteration 1991 / 4900) loss: 1.215584\n",
      "(Iteration 2001 / 4900) loss: 1.403382\n",
      "(Iteration 2011 / 4900) loss: 1.498970\n",
      "(Iteration 2021 / 4900) loss: 1.419136\n",
      "(Iteration 2031 / 4900) loss: 1.193495\n",
      "(Iteration 2041 / 4900) loss: 1.401683\n",
      "(Iteration 2051 / 4900) loss: 1.281493\n"
     ]
    },
    {
     "name": "stdout",
     "output_type": "stream",
     "text": [
      "(Iteration 2061 / 4900) loss: 1.261051\n",
      "(Iteration 2071 / 4900) loss: 1.373505\n",
      "(Iteration 2081 / 4900) loss: 1.334775\n",
      "(Iteration 2091 / 4900) loss: 1.375573\n",
      "(Iteration 2101 / 4900) loss: 1.575553\n",
      "(Iteration 2111 / 4900) loss: 1.185288\n",
      "(Iteration 2121 / 4900) loss: 1.629509\n",
      "(Iteration 2131 / 4900) loss: 1.301984\n",
      "(Iteration 2141 / 4900) loss: 1.181694\n",
      "(Iteration 2151 / 4900) loss: 1.166778\n",
      "(Iteration 2161 / 4900) loss: 1.085105\n",
      "(Iteration 2171 / 4900) loss: 1.401028\n",
      "(Iteration 2181 / 4900) loss: 1.406492\n",
      "(Iteration 2191 / 4900) loss: 1.204502\n",
      "(Iteration 2201 / 4900) loss: 1.187054\n",
      "(Iteration 2211 / 4900) loss: 1.230174\n",
      "(Iteration 2221 / 4900) loss: 1.320664\n",
      "(Iteration 2231 / 4900) loss: 1.350862\n",
      "(Iteration 2241 / 4900) loss: 1.277088\n",
      "(Iteration 2251 / 4900) loss: 1.358288\n",
      "(Iteration 2261 / 4900) loss: 1.182419\n",
      "(Iteration 2271 / 4900) loss: 1.280618\n",
      "(Iteration 2281 / 4900) loss: 1.274923\n",
      "(Iteration 2291 / 4900) loss: 1.283314\n",
      "(Iteration 2301 / 4900) loss: 1.385094\n",
      "(Iteration 2311 / 4900) loss: 1.367414\n",
      "(Iteration 2321 / 4900) loss: 1.021954\n",
      "(Iteration 2331 / 4900) loss: 1.316248\n",
      "(Iteration 2341 / 4900) loss: 1.185068\n",
      "(Iteration 2351 / 4900) loss: 1.350145\n",
      "(Iteration 2361 / 4900) loss: 1.226981\n",
      "(Iteration 2371 / 4900) loss: 1.187543\n",
      "(Iteration 2381 / 4900) loss: 1.252810\n",
      "(Iteration 2391 / 4900) loss: 1.304611\n",
      "(Iteration 2401 / 4900) loss: 1.341778\n",
      "(Iteration 2411 / 4900) loss: 1.444191\n",
      "(Iteration 2421 / 4900) loss: 1.140540\n",
      "(Iteration 2431 / 4900) loss: 1.352763\n",
      "(Iteration 2441 / 4900) loss: 1.296252\n",
      "(Epoch 5 / 10) train acc: 0.556000; val_acc: 0.486000\n",
      "(Iteration 2451 / 4900) loss: 1.195542\n",
      "(Iteration 2461 / 4900) loss: 1.197547\n",
      "(Iteration 2471 / 4900) loss: 1.289990\n",
      "(Iteration 2481 / 4900) loss: 1.329469\n",
      "(Iteration 2491 / 4900) loss: 1.199174\n",
      "(Iteration 2501 / 4900) loss: 1.324058\n",
      "(Iteration 2511 / 4900) loss: 1.358888\n",
      "(Iteration 2521 / 4900) loss: 1.351278\n",
      "(Iteration 2531 / 4900) loss: 1.080719\n",
      "(Iteration 2541 / 4900) loss: 1.339555\n",
      "(Iteration 2551 / 4900) loss: 1.295201\n",
      "(Iteration 2561 / 4900) loss: 1.374788\n",
      "(Iteration 2571 / 4900) loss: 1.329952\n",
      "(Iteration 2581 / 4900) loss: 1.189819\n",
      "(Iteration 2591 / 4900) loss: 1.087235\n",
      "(Iteration 2601 / 4900) loss: 1.369716\n",
      "(Iteration 2611 / 4900) loss: 1.249818\n",
      "(Iteration 2621 / 4900) loss: 1.298319\n",
      "(Iteration 2631 / 4900) loss: 1.200195\n",
      "(Iteration 2641 / 4900) loss: 1.543692\n",
      "(Iteration 2651 / 4900) loss: 1.308357\n",
      "(Iteration 2661 / 4900) loss: 1.490073\n",
      "(Iteration 2671 / 4900) loss: 1.202003\n",
      "(Iteration 2681 / 4900) loss: 1.518186\n",
      "(Iteration 2691 / 4900) loss: 1.221413\n",
      "(Iteration 2701 / 4900) loss: 1.275703\n",
      "(Iteration 2711 / 4900) loss: 1.240694\n",
      "(Iteration 2721 / 4900) loss: 1.257467\n",
      "(Iteration 2731 / 4900) loss: 1.172843\n",
      "(Iteration 2741 / 4900) loss: 1.140343\n",
      "(Iteration 2751 / 4900) loss: 1.408431\n",
      "(Iteration 2761 / 4900) loss: 1.127999\n",
      "(Iteration 2771 / 4900) loss: 1.043662\n",
      "(Iteration 2781 / 4900) loss: 1.266255\n",
      "(Iteration 2791 / 4900) loss: 1.233111\n",
      "(Iteration 2801 / 4900) loss: 1.393749\n",
      "(Iteration 2811 / 4900) loss: 1.487880\n",
      "(Iteration 2821 / 4900) loss: 1.290945\n",
      "(Iteration 2831 / 4900) loss: 1.150736\n",
      "(Iteration 2841 / 4900) loss: 1.221247\n",
      "(Iteration 2851 / 4900) loss: 1.103731\n",
      "(Iteration 2861 / 4900) loss: 1.226183\n",
      "(Iteration 2871 / 4900) loss: 1.172802\n",
      "(Iteration 2881 / 4900) loss: 1.469785\n",
      "(Iteration 2891 / 4900) loss: 1.285279\n",
      "(Iteration 2901 / 4900) loss: 1.452051\n",
      "(Iteration 2911 / 4900) loss: 1.225223\n",
      "(Iteration 2921 / 4900) loss: 1.270583\n",
      "(Iteration 2931 / 4900) loss: 1.057421\n",
      "(Epoch 6 / 10) train acc: 0.540000; val_acc: 0.519000\n",
      "(Iteration 2941 / 4900) loss: 1.145710\n",
      "(Iteration 2951 / 4900) loss: 1.275240\n",
      "(Iteration 2961 / 4900) loss: 1.274880\n",
      "(Iteration 2971 / 4900) loss: 1.161319\n",
      "(Iteration 2981 / 4900) loss: 1.156459\n",
      "(Iteration 2991 / 4900) loss: 1.221632\n",
      "(Iteration 3001 / 4900) loss: 1.412687\n",
      "(Iteration 3011 / 4900) loss: 1.218771\n",
      "(Iteration 3021 / 4900) loss: 1.286366\n",
      "(Iteration 3031 / 4900) loss: 1.280565\n",
      "(Iteration 3041 / 4900) loss: 1.259047\n",
      "(Iteration 3051 / 4900) loss: 1.286490\n",
      "(Iteration 3061 / 4900) loss: 1.341583\n",
      "(Iteration 3071 / 4900) loss: 1.373124\n",
      "(Iteration 3081 / 4900) loss: 1.411418\n",
      "(Iteration 3091 / 4900) loss: 1.198648\n",
      "(Iteration 3101 / 4900) loss: 1.175282\n",
      "(Iteration 3111 / 4900) loss: 1.055120\n",
      "(Iteration 3121 / 4900) loss: 1.282499\n",
      "(Iteration 3131 / 4900) loss: 1.267362\n",
      "(Iteration 3141 / 4900) loss: 1.279202\n",
      "(Iteration 3151 / 4900) loss: 1.312468\n",
      "(Iteration 3161 / 4900) loss: 1.411638\n",
      "(Iteration 3171 / 4900) loss: 1.194944\n",
      "(Iteration 3181 / 4900) loss: 1.346378\n",
      "(Iteration 3191 / 4900) loss: 1.102143\n",
      "(Iteration 3201 / 4900) loss: 1.097273\n",
      "(Iteration 3211 / 4900) loss: 1.267320\n",
      "(Iteration 3221 / 4900) loss: 1.374669\n",
      "(Iteration 3231 / 4900) loss: 1.350474\n",
      "(Iteration 3241 / 4900) loss: 1.134908\n",
      "(Iteration 3251 / 4900) loss: 1.302865\n",
      "(Iteration 3261 / 4900) loss: 1.041647\n",
      "(Iteration 3271 / 4900) loss: 1.287679\n",
      "(Iteration 3281 / 4900) loss: 1.442645\n",
      "(Iteration 3291 / 4900) loss: 1.151349\n",
      "(Iteration 3301 / 4900) loss: 1.290260\n",
      "(Iteration 3311 / 4900) loss: 1.136673\n",
      "(Iteration 3321 / 4900) loss: 1.327824\n",
      "(Iteration 3331 / 4900) loss: 1.131305\n",
      "(Iteration 3341 / 4900) loss: 1.108674\n",
      "(Iteration 3351 / 4900) loss: 1.109605\n",
      "(Iteration 3361 / 4900) loss: 1.121214\n",
      "(Iteration 3371 / 4900) loss: 1.211197\n",
      "(Iteration 3381 / 4900) loss: 0.870014\n",
      "(Iteration 3391 / 4900) loss: 1.273606\n",
      "(Iteration 3401 / 4900) loss: 1.286096\n",
      "(Iteration 3411 / 4900) loss: 1.299278\n",
      "(Iteration 3421 / 4900) loss: 1.231896\n",
      "(Epoch 7 / 10) train acc: 0.568000; val_acc: 0.529000\n",
      "(Iteration 3431 / 4900) loss: 1.163719\n",
      "(Iteration 3441 / 4900) loss: 1.118314\n",
      "(Iteration 3451 / 4900) loss: 1.191871\n",
      "(Iteration 3461 / 4900) loss: 1.211383\n",
      "(Iteration 3471 / 4900) loss: 1.215138\n",
      "(Iteration 3481 / 4900) loss: 1.437283\n",
      "(Iteration 3491 / 4900) loss: 0.949035\n",
      "(Iteration 3501 / 4900) loss: 1.313044\n",
      "(Iteration 3511 / 4900) loss: 1.214337\n",
      "(Iteration 3521 / 4900) loss: 1.162786\n",
      "(Iteration 3531 / 4900) loss: 1.146069\n",
      "(Iteration 3541 / 4900) loss: 1.390487\n",
      "(Iteration 3551 / 4900) loss: 1.300161\n",
      "(Iteration 3561 / 4900) loss: 1.205151\n",
      "(Iteration 3571 / 4900) loss: 1.176914\n",
      "(Iteration 3581 / 4900) loss: 1.190023\n",
      "(Iteration 3591 / 4900) loss: 1.217437\n",
      "(Iteration 3601 / 4900) loss: 1.207731\n",
      "(Iteration 3611 / 4900) loss: 1.165070\n",
      "(Iteration 3621 / 4900) loss: 1.018590\n",
      "(Iteration 3631 / 4900) loss: 1.428634\n",
      "(Iteration 3641 / 4900) loss: 1.431308\n",
      "(Iteration 3651 / 4900) loss: 1.225134\n",
      "(Iteration 3661 / 4900) loss: 1.167686\n",
      "(Iteration 3671 / 4900) loss: 1.001524\n",
      "(Iteration 3681 / 4900) loss: 1.105614\n",
      "(Iteration 3691 / 4900) loss: 1.187608\n",
      "(Iteration 3701 / 4900) loss: 1.241333\n",
      "(Iteration 3711 / 4900) loss: 1.391149\n",
      "(Iteration 3721 / 4900) loss: 1.060951\n",
      "(Iteration 3731 / 4900) loss: 1.197505\n",
      "(Iteration 3741 / 4900) loss: 1.196729\n",
      "(Iteration 3751 / 4900) loss: 1.409648\n",
      "(Iteration 3761 / 4900) loss: 1.190165\n",
      "(Iteration 3771 / 4900) loss: 1.314566\n",
      "(Iteration 3781 / 4900) loss: 1.146415\n",
      "(Iteration 3791 / 4900) loss: 1.044235\n",
      "(Iteration 3801 / 4900) loss: 1.138351\n",
      "(Iteration 3811 / 4900) loss: 1.313436\n",
      "(Iteration 3821 / 4900) loss: 1.254652\n",
      "(Iteration 3831 / 4900) loss: 1.092317\n",
      "(Iteration 3841 / 4900) loss: 1.098604\n",
      "(Iteration 3851 / 4900) loss: 1.008076\n",
      "(Iteration 3861 / 4900) loss: 1.169365\n",
      "(Iteration 3871 / 4900) loss: 1.073805\n",
      "(Iteration 3881 / 4900) loss: 1.236133\n",
      "(Iteration 3891 / 4900) loss: 1.161019\n",
      "(Iteration 3901 / 4900) loss: 1.239873\n",
      "(Iteration 3911 / 4900) loss: 1.302348\n",
      "(Epoch 8 / 10) train acc: 0.576000; val_acc: 0.497000\n",
      "(Iteration 3921 / 4900) loss: 1.083364\n",
      "(Iteration 3931 / 4900) loss: 1.257468\n",
      "(Iteration 3941 / 4900) loss: 1.323698\n",
      "(Iteration 3951 / 4900) loss: 1.219369\n",
      "(Iteration 3961 / 4900) loss: 1.055884\n",
      "(Iteration 3971 / 4900) loss: 1.353330\n",
      "(Iteration 3981 / 4900) loss: 0.987338\n",
      "(Iteration 3991 / 4900) loss: 1.025008\n",
      "(Iteration 4001 / 4900) loss: 1.264565\n",
      "(Iteration 4011 / 4900) loss: 0.861023\n",
      "(Iteration 4021 / 4900) loss: 1.199798\n",
      "(Iteration 4031 / 4900) loss: 1.091639\n",
      "(Iteration 4041 / 4900) loss: 1.195353\n",
      "(Iteration 4051 / 4900) loss: 0.905437\n",
      "(Iteration 4061 / 4900) loss: 1.085815\n",
      "(Iteration 4071 / 4900) loss: 1.181139\n",
      "(Iteration 4081 / 4900) loss: 1.055300\n",
      "(Iteration 4091 / 4900) loss: 1.019168\n",
      "(Iteration 4101 / 4900) loss: 1.110721\n",
      "(Iteration 4111 / 4900) loss: 1.154879\n"
     ]
    },
    {
     "name": "stdout",
     "output_type": "stream",
     "text": [
      "(Iteration 4121 / 4900) loss: 1.349901\n",
      "(Iteration 4131 / 4900) loss: 1.335633\n",
      "(Iteration 4141 / 4900) loss: 1.053999\n",
      "(Iteration 4151 / 4900) loss: 1.380989\n",
      "(Iteration 4161 / 4900) loss: 1.217367\n",
      "(Iteration 4171 / 4900) loss: 1.235436\n",
      "(Iteration 4181 / 4900) loss: 1.071894\n",
      "(Iteration 4191 / 4900) loss: 1.086556\n",
      "(Iteration 4201 / 4900) loss: 1.195942\n",
      "(Iteration 4211 / 4900) loss: 0.973938\n",
      "(Iteration 4221 / 4900) loss: 1.037350\n",
      "(Iteration 4231 / 4900) loss: 1.210325\n",
      "(Iteration 4241 / 4900) loss: 1.189605\n",
      "(Iteration 4251 / 4900) loss: 1.439013\n",
      "(Iteration 4261 / 4900) loss: 1.331671\n",
      "(Iteration 4271 / 4900) loss: 1.324397\n",
      "(Iteration 4281 / 4900) loss: 1.159443\n",
      "(Iteration 4291 / 4900) loss: 1.172724\n",
      "(Iteration 4301 / 4900) loss: 1.275232\n",
      "(Iteration 4311 / 4900) loss: 1.314377\n",
      "(Iteration 4321 / 4900) loss: 1.225808\n",
      "(Iteration 4331 / 4900) loss: 0.974268\n",
      "(Iteration 4341 / 4900) loss: 1.229561\n",
      "(Iteration 4351 / 4900) loss: 1.105871\n",
      "(Iteration 4361 / 4900) loss: 1.096714\n",
      "(Iteration 4371 / 4900) loss: 1.278061\n",
      "(Iteration 4381 / 4900) loss: 1.112652\n",
      "(Iteration 4391 / 4900) loss: 1.111043\n",
      "(Iteration 4401 / 4900) loss: 1.099022\n",
      "(Epoch 9 / 10) train acc: 0.593000; val_acc: 0.522000\n",
      "(Iteration 4411 / 4900) loss: 1.269214\n",
      "(Iteration 4421 / 4900) loss: 1.313223\n",
      "(Iteration 4431 / 4900) loss: 1.085204\n",
      "(Iteration 4441 / 4900) loss: 1.365090\n",
      "(Iteration 4451 / 4900) loss: 0.969419\n",
      "(Iteration 4461 / 4900) loss: 1.071770\n",
      "(Iteration 4471 / 4900) loss: 1.146840\n",
      "(Iteration 4481 / 4900) loss: 1.234772\n",
      "(Iteration 4491 / 4900) loss: 1.070282\n",
      "(Iteration 4501 / 4900) loss: 1.117506\n",
      "(Iteration 4511 / 4900) loss: 1.125619\n",
      "(Iteration 4521 / 4900) loss: 1.014442\n",
      "(Iteration 4531 / 4900) loss: 1.157960\n",
      "(Iteration 4541 / 4900) loss: 1.167811\n",
      "(Iteration 4551 / 4900) loss: 1.124627\n",
      "(Iteration 4561 / 4900) loss: 1.262481\n",
      "(Iteration 4571 / 4900) loss: 1.078350\n",
      "(Iteration 4581 / 4900) loss: 1.191586\n",
      "(Iteration 4591 / 4900) loss: 1.246637\n",
      "(Iteration 4601 / 4900) loss: 1.211232\n",
      "(Iteration 4611 / 4900) loss: 0.961349\n",
      "(Iteration 4621 / 4900) loss: 1.457526\n",
      "(Iteration 4631 / 4900) loss: 1.171732\n",
      "(Iteration 4641 / 4900) loss: 0.923453\n",
      "(Iteration 4651 / 4900) loss: 1.148710\n",
      "(Iteration 4661 / 4900) loss: 1.195738\n",
      "(Iteration 4671 / 4900) loss: 1.150133\n",
      "(Iteration 4681 / 4900) loss: 1.169031\n",
      "(Iteration 4691 / 4900) loss: 1.093487\n",
      "(Iteration 4701 / 4900) loss: 1.167314\n",
      "(Iteration 4711 / 4900) loss: 1.412597\n",
      "(Iteration 4721 / 4900) loss: 1.216012\n",
      "(Iteration 4731 / 4900) loss: 0.814582\n",
      "(Iteration 4741 / 4900) loss: 1.042740\n",
      "(Iteration 4751 / 4900) loss: 0.997773\n",
      "(Iteration 4761 / 4900) loss: 1.295682\n",
      "(Iteration 4771 / 4900) loss: 1.000941\n",
      "(Iteration 4781 / 4900) loss: 1.295968\n",
      "(Iteration 4791 / 4900) loss: 1.168163\n",
      "(Iteration 4801 / 4900) loss: 1.128189\n",
      "(Iteration 4811 / 4900) loss: 1.320026\n",
      "(Iteration 4821 / 4900) loss: 1.112849\n",
      "(Iteration 4831 / 4900) loss: 1.187733\n",
      "(Iteration 4841 / 4900) loss: 1.206895\n",
      "(Iteration 4851 / 4900) loss: 1.120251\n",
      "(Iteration 4861 / 4900) loss: 0.947222\n",
      "(Iteration 4871 / 4900) loss: 1.242068\n",
      "(Iteration 4881 / 4900) loss: 0.977284\n",
      "(Iteration 4891 / 4900) loss: 1.030821\n",
      "(Epoch 10 / 10) train acc: 0.600000; val_acc: 0.524000\n"
     ]
    }
   ],
   "source": [
    "best_model = None\n",
    "################################################################################\n",
    "# TODO: Train the best FullyConnectedNet that you can on CIFAR-10. You might   #\n",
    "# find batch/layer normalization and dropout useful. Store your best model in  #\n",
    "# the best_model variable.                                                     #\n",
    "################################################################################\n",
    "model = FullyConnectedNet([100, 100, 100, 100, 100], weight_scale=5e-2)\n",
    "\n",
    "solver = Solver(model, data,\n",
    "              num_epochs=10, batch_size=100,\n",
    "              update_rule='adam',\n",
    "              optim_config={\n",
    "                'learning_rate': 1e-3\n",
    "              },\n",
    "              verbose=True)\n",
    "\n",
    "solver.train()\n",
    "################################################################################\n",
    "#                              END OF YOUR CODE                                #\n",
    "################################################################################"
   ]
  },
  {
   "cell_type": "code",
   "execution_count": 62,
   "metadata": {},
   "outputs": [],
   "source": [
    "best_model = model"
   ]
  },
  {
   "cell_type": "markdown",
   "metadata": {},
   "source": [
    "# Test your model!\n",
    "Run your best model on the validation and test sets. You should achieve above 50% accuracy on the validation set."
   ]
  },
  {
   "cell_type": "code",
   "execution_count": 63,
   "metadata": {},
   "outputs": [
    {
     "name": "stdout",
     "output_type": "stream",
     "text": [
      "Validation set accuracy:  0.529\n",
      "Test set accuracy:  0.509\n"
     ]
    }
   ],
   "source": [
    "y_test_pred = np.argmax(best_model.loss(data['X_test']), axis=1)\n",
    "y_val_pred = np.argmax(best_model.loss(data['X_val']), axis=1)\n",
    "print('Validation set accuracy: ', (y_val_pred == data['y_val']).mean())\n",
    "print('Test set accuracy: ', (y_test_pred == data['y_test']).mean())"
   ]
  }
 ],
 "metadata": {
  "kernelspec": {
   "display_name": "Python 3",
   "language": "python",
   "name": "python3"
  },
  "language_info": {
   "codemirror_mode": {
    "name": "ipython",
    "version": 3
   },
   "file_extension": ".py",
   "mimetype": "text/x-python",
   "name": "python",
   "nbconvert_exporter": "python",
   "pygments_lexer": "ipython3",
   "version": "3.6.5"
  }
 },
 "nbformat": 4,
 "nbformat_minor": 2
}
